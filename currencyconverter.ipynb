{
 "cells": [
  {
   "cell_type": "code",
   "execution_count": 52,
   "metadata": {},
   "outputs": [],
   "source": [
    "#installing package that will retrive and parse from websites\n",
    "import requests"
   ]
  },
  {
   "cell_type": "code",
   "execution_count": 50,
   "metadata": {},
   "outputs": [],
   "source": [
    "##retrival of exchange rates from third party API\n",
    "def get_exchange_rates():\n",
    "    api_url = \"https://api.exchangerate-api.com/v4/latest/USD\"\n",
    "    response = requests.get(api_url)\n",
    "    data = response.json()\n",
    "    return data[\"rates\"]"
   ]
  },
  {
   "cell_type": "code",
   "execution_count": 53,
   "metadata": {},
   "outputs": [],
   "source": [
    "exchange_rates = get_exchange_rates()"
   ]
  },
  {
   "cell_type": "code",
   "execution_count": 54,
   "metadata": {},
   "outputs": [],
   "source": [
    "##define function of currency conversion \n",
    "def currency_conversion(exchangedValue, baseCurrency, desiredCurrency):\n",
    "##currency conversion where the dollar is the peg\n",
    "    if baseCurrency and desiredCurrency in exchange_rates:\n",
    "        if desiredCurrency == \"USD\":\n",
    "            exchangedCurrency = exchangedValue / (exchange_rates[baseCurrency])\n",
    "        elif baseCurrency == \"USD\":\n",
    "            exchangedCurrency = exchangedValue * exchange_rates[desiredCurrency]\n",
    "##the scenario where the dollar isn't the peg\n",
    "        else:\n",
    "            TexchangedCurrency= exchangedValue / (exchange_rates[baseCurrency])\n",
    "            exchangedCurrency= TexchangedCurrency * exchange_rates[desiredCurrency] \n",
    "    elif baseCurrency or desiredCurrency not in exchange_rates:\n",
    "        print(\"Your request cannot be met\")\n",
    "    return exchangedCurrency"
   ]
  },
  {
   "cell_type": "code",
   "execution_count": 92,
   "metadata": {},
   "outputs": [
    {
     "name": "stdout",
     "output_type": "stream",
     "text": [
      "You have to enter a numeric value when prompted\n",
      "You have to enter a numeric value when prompted\n",
      "You have to enter a numeric value when prompted\n",
      "You have to enter a numeric value when prompted\n"
     ]
    },
    {
     "ename": "ValueError",
     "evalue": "invalid literal for int() with base 10: 'gbp'",
     "output_type": "error",
     "traceback": [
      "\u001b[1;31m---------------------------------------------------------------------------\u001b[0m",
      "\u001b[1;31mValueError\u001b[0m                                Traceback (most recent call last)",
      "Cell \u001b[1;32mIn[92], line 5\u001b[0m\n\u001b[0;32m      3\u001b[0m \u001b[39mwhile\u001b[39;00m Moneytype \u001b[39m!=\u001b[39m \u001b[39mint\u001b[39m:\n\u001b[0;32m      4\u001b[0m     \u001b[39mprint\u001b[39m(\u001b[39m\"\u001b[39m\u001b[39mYou have to enter a numeric value when prompted\u001b[39m\u001b[39m\"\u001b[39m)\n\u001b[1;32m----> 5\u001b[0m     Money \u001b[39m=\u001b[39m \u001b[39mint\u001b[39;49m(\u001b[39minput\u001b[39;49m(\u001b[39m\"\u001b[39;49m\u001b[39mEnter a numeric value\u001b[39;49m\u001b[39m\"\u001b[39;49m))\n\u001b[0;32m      6\u001b[0m     \u001b[39mif\u001b[39;00m Money \u001b[39m==\u001b[39m \u001b[39mstr\u001b[39m:\n\u001b[0;32m      7\u001b[0m         Money \u001b[39m=\u001b[39m \u001b[39mint\u001b[39m(\u001b[39minput\u001b[39m(\u001b[39m\"\u001b[39m\u001b[39mEnter a numeric value\u001b[39m\u001b[39m\"\u001b[39m))\n",
      "\u001b[1;31mValueError\u001b[0m: invalid literal for int() with base 10: 'gbp'"
     ]
    }
   ],
   "source": [
    "Money= (input(\"How much do you want to convert?\"))\n",
    "Moneytype = type(Money)\n",
    "while Moneytype != int:\n",
    "    print(\"You have to enter a numeric value when prompted\")\n",
    "    Money = int(input(\"Enter a numeric value\"))\n",
    "    if Money == str:\n",
    "        Money = int(input(\"Enter a numeric value\"))\n",
    "break \n",
    "Moneytype == int \n",
    "\n",
    "\n"
   ]
  },
  {
   "cell_type": "code",
   "execution_count": null,
   "metadata": {},
   "outputs": [],
   "source": []
  },
  {
   "cell_type": "code",
   "execution_count": 47,
   "metadata": {},
   "outputs": [],
   "source": [
    "base_currency = input(\"What is the ticker of your base currency (in a 3-letter format)? \")\n",
    "base_currency_len = len(base_currency)\n",
    "base_currency_type = type(base_currency)\n",
    "\n",
    "while base_currency_type != str or base_currency_len != 3:\n",
    "    print(\"You can only enter the ticker in a 3-letter format.\")\n",
    "    base_currency = input(\"What is the ticker of your base currency (in a 3-letter format)? \")\n",
    "    base_currency_type = type(base_currency)\n",
    "    base_currency_len = len(base_currency)"
   ]
  },
  {
   "cell_type": "code",
   "execution_count": 48,
   "metadata": {},
   "outputs": [],
   "source": []
  },
  {
   "cell_type": "code",
   "execution_count": 49,
   "metadata": {},
   "outputs": [
    {
     "ename": "NameError",
     "evalue": "name 'exchange_rates' is not defined",
     "output_type": "error",
     "traceback": [
      "\u001b[1;31m---------------------------------------------------------------------------\u001b[0m",
      "\u001b[1;31mNameError\u001b[0m                                 Traceback (most recent call last)",
      "Cell \u001b[1;32mIn[49], line 1\u001b[0m\n\u001b[1;32m----> 1\u001b[0m \u001b[39mprint\u001b[39m(currency_conversion((Money),(basecurrenc),(exchangedcurrenc)))\n",
      "Cell \u001b[1;32mIn[14], line 4\u001b[0m, in \u001b[0;36mcurrency_conversion\u001b[1;34m(exchangedValue, baseCurrency, desiredCurrency)\u001b[0m\n\u001b[0;32m      2\u001b[0m \u001b[39mdef\u001b[39;00m \u001b[39mcurrency_conversion\u001b[39m(exchangedValue, baseCurrency, desiredCurrency):\n\u001b[0;32m      3\u001b[0m \u001b[39m##currency conversion where the dollar is the peg\u001b[39;00m\n\u001b[1;32m----> 4\u001b[0m     \u001b[39mif\u001b[39;00m baseCurrency \u001b[39mand\u001b[39;00m desiredCurrency \u001b[39min\u001b[39;00m exchange_rates:\n\u001b[0;32m      5\u001b[0m         \u001b[39mif\u001b[39;00m desiredCurrency \u001b[39m==\u001b[39m \u001b[39m\"\u001b[39m\u001b[39mUSD\u001b[39m\u001b[39m\"\u001b[39m:\n\u001b[0;32m      6\u001b[0m             exchangedCurrency \u001b[39m=\u001b[39m exchangedValue \u001b[39m/\u001b[39m (exchange_rates[baseCurrency])\n",
      "\u001b[1;31mNameError\u001b[0m: name 'exchange_rates' is not defined"
     ]
    }
   ],
   "source": [
    "print(currency_conversion((Money),(basecurrenc),(exchangedcurrenc)))"
   ]
  }
 ],
 "metadata": {
  "kernelspec": {
   "display_name": "Python 3",
   "language": "python",
   "name": "python3"
  },
  "language_info": {
   "codemirror_mode": {
    "name": "ipython",
    "version": 3
   },
   "file_extension": ".py",
   "mimetype": "text/x-python",
   "name": "python",
   "nbconvert_exporter": "python",
   "pygments_lexer": "ipython3",
   "version": "3.11.4"
  },
  "orig_nbformat": 4
 },
 "nbformat": 4,
 "nbformat_minor": 2
}
